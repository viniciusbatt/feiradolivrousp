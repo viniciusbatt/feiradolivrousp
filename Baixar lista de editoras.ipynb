{
 "cells": [
  {
   "cell_type": "code",
   "execution_count": 3,
   "metadata": {},
   "outputs": [],
   "source": [
    "import pandas as pd\n",
    "import requests\n",
    "from datetime import date\n",
    "from sqlalchemy import create_engine, Table, MetaData, select\n",
    "from time import sleep"
   ]
  },
  {
   "cell_type": "markdown",
   "metadata": {},
   "source": [
    "# Receita para baixar todas as editoras\n",
    "\n",
    "Este notebook fará uma conexão com um arquivo sqlite previamente criado na mesma pasta, executa uma série de requisições para o site da Feira do Livro para baixar a lista de editoras, compila as informações e grava no sqlite."
   ]
  },
  {
   "cell_type": "markdown",
   "metadata": {},
   "source": [
    "## Conexão ao SQLite"
   ]
  },
  {
   "cell_type": "code",
   "execution_count": 4,
   "metadata": {},
   "outputs": [],
   "source": [
    "db = create_engine('sqlite:///livros_usp_2024.db')"
   ]
  },
  {
   "cell_type": "markdown",
   "metadata": {},
   "source": [
    "## Baixar todos as editoras do site da Feira do Livro"
   ]
  },
  {
   "cell_type": "code",
   "execution_count": 5,
   "metadata": {},
   "outputs": [],
   "source": [
    "headers = {\n",
    "    'accept': 'application/json, text/plain, */*',\n",
    "    'accept-language': 'pt-BR,pt;q=0.9,en-US;q=0.8,en;q=0.7',\n",
    "    # 'cookie': 'PHPSESSID=ha1p3kg5ik1njdnk3iekdfqcvd',\n",
    "    'priority': 'u=1, i',\n",
    "    'referer': 'https://festadolivro.edusp.com.br/26-festa-do-livro-da-usp/editoras',\n",
    "    'sec-ch-ua': '\"Chromium\";v=\"130\", \"Google Chrome\";v=\"130\", \"Not?A_Brand\";v=\"99\"',\n",
    "}\n"
   ]
  },
  {
   "cell_type": "code",
   "execution_count": 21,
   "metadata": {},
   "outputs": [],
   "source": [
    "params = {\n",
    "    'flag': '26-festa-do-livro-da-usp',\n",
    "    'page': 0\n",
    "}\n"
   ]
  },
  {
   "cell_type": "code",
   "execution_count": 22,
   "metadata": {},
   "outputs": [],
   "source": [
    "resposta = requests.get('https://festadolivro.edusp.com.br/api/v1/event-publishers', params=params, headers=headers)"
   ]
  },
  {
   "cell_type": "code",
   "execution_count": null,
   "metadata": {},
   "outputs": [],
   "source": [
    "if resposta.status_code == 200:\n",
    "    print('Sucesso')"
   ]
  },
  {
   "cell_type": "code",
   "execution_count": 24,
   "metadata": {},
   "outputs": [],
   "source": [
    "dados = resposta.json()['data']"
   ]
  },
  {
   "cell_type": "code",
   "execution_count": 25,
   "metadata": {},
   "outputs": [],
   "source": [
    "resultados_df = pd.DataFrame.from_dict(resposta.json()['data'])"
   ]
  },
  {
   "cell_type": "code",
   "execution_count": 26,
   "metadata": {},
   "outputs": [],
   "source": [
    "resultados_df['data_atualizacao'] = pd.to_datetime(date.today())\n"
   ]
  },
  {
   "cell_type": "code",
   "execution_count": null,
   "metadata": {},
   "outputs": [],
   "source": [
    "print('Livros encontrados: ' + str(len(resultados_df)))\n"
   ]
  },
  {
   "cell_type": "code",
   "execution_count": 28,
   "metadata": {},
   "outputs": [],
   "source": [
    "resultados_df = resultados_df.drop(['address', 'social'], axis=1)"
   ]
  },
  {
   "cell_type": "code",
   "execution_count": null,
   "metadata": {},
   "outputs": [],
   "source": [
    "resultados_df"
   ]
  },
  {
   "cell_type": "code",
   "execution_count": 30,
   "metadata": {},
   "outputs": [],
   "source": [
    "# with db.connect() as conn:\n",
    "#     resultados_df.to_sql('editoras_usp', conn, if_exists='append', index=False)"
   ]
  },
  {
   "cell_type": "markdown",
   "metadata": {},
   "source": [
    "## Buscar livros já cadastrados"
   ]
  },
  {
   "cell_type": "code",
   "execution_count": 31,
   "metadata": {},
   "outputs": [],
   "source": [
    "editoras_usp_tbl = Table('editoras_usp', MetaData(), autoload_with=db)\n"
   ]
  },
  {
   "cell_type": "code",
   "execution_count": 32,
   "metadata": {},
   "outputs": [],
   "source": [
    "select_query = select(editoras_usp_tbl).order_by(editoras_usp_tbl.c.url)\n"
   ]
  },
  {
   "cell_type": "code",
   "execution_count": 33,
   "metadata": {},
   "outputs": [],
   "source": [
    "with db.connect() as conn:\n",
    "    editoras_usp = pd.read_sql(select_query, conn)\n"
   ]
  },
  {
   "cell_type": "code",
   "execution_count": null,
   "metadata": {},
   "outputs": [],
   "source": [
    "# Quantas editoras já estão no BD?\n",
    "len(editoras_usp) "
   ]
  },
  {
   "cell_type": "code",
   "execution_count": null,
   "metadata": {},
   "outputs": [],
   "source": [
    "while 0 < 30:\n",
    "    params['page'] = params['page'] + 1\n",
    "    resposta = requests.get('https://festadolivro.edusp.com.br/api/v1/event-publishers', params=params, headers=headers)\n",
    "    if resposta.status_code == 200:\n",
    "        resultados_df = pd.DataFrame.from_dict(resposta.json()['data'])\n",
    "        resultados_df['data_atualizacao'] = pd.to_datetime(date.today())\n",
    "        print('Editoras encontradas: ' + str(len(resultados_df)))\n",
    "        if len(resultados_df) > 0:\n",
    "            resultados_df = resultados_df.drop(['address', 'social'], axis=1)\n",
    "            with db.connect() as conn:\n",
    "                editoras_usp = pd.read_sql(select_query, conn)\n",
    "            resultados_df = resultados_df.loc[~resultados_df['url'].isin(editoras_usp['url']),].copy()\n",
    "            if len(resultados_df) > 0:\n",
    "                print('Editoras novas para gravar: ' + str(len(resultados_df)))\n",
    "                with db.connect() as conn:\n",
    "                    resultados_df.to_sql('editoras_usp', conn, if_exists='append', index=False)\n",
    "            else:\n",
    "                print('Sem editoras novas para gravar')\n",
    "        else:\n",
    "            break\n",
    "    else:\n",
    "        print('Erro na página' + str(params['page']))\n",
    "    sleep(5)\n",
    "    print(params['page'])"
   ]
  },
  {
   "cell_type": "code",
   "execution_count": null,
   "metadata": {},
   "outputs": [],
   "source": []
  }
 ],
 "metadata": {
  "kernelspec": {
   "display_name": ".venv",
   "language": "python",
   "name": "python3"
  },
  "language_info": {
   "codemirror_mode": {
    "name": "ipython",
    "version": 3
   },
   "file_extension": ".py",
   "mimetype": "text/x-python",
   "name": "python",
   "nbconvert_exporter": "python",
   "pygments_lexer": "ipython3",
   "version": "3.12.3"
  }
 },
 "nbformat": 4,
 "nbformat_minor": 2
}
