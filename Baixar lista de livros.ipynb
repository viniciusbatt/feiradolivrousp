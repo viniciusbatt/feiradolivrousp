{
 "cells": [
  {
   "cell_type": "code",
   "execution_count": 1,
   "metadata": {},
   "outputs": [],
   "source": [
    "import pandas as pd\n",
    "import requests\n",
    "from datetime import date\n",
    "from sqlalchemy import create_engine, Table, MetaData, select\n",
    "from time import sleep"
   ]
  },
  {
   "cell_type": "markdown",
   "metadata": {},
   "source": [
    "# Receita para baixar todos os livros\n",
    "\n",
    "Este notebook fará uma conexão com um arquivo sqlite previamente criado na mesma pasta, executa uma série de requisições para o site da Feira do Livro para baixar todo o catálogo, compila as informações e grava no sqlite."
   ]
  },
  {
   "cell_type": "markdown",
   "metadata": {},
   "source": [
    "## Conexão ao SQLite"
   ]
  },
  {
   "cell_type": "code",
   "execution_count": 2,
   "metadata": {},
   "outputs": [],
   "source": [
    "db = create_engine('sqlite:///livros_usp_2024.db')"
   ]
  },
  {
   "cell_type": "markdown",
   "metadata": {},
   "source": [
    "## Baixar todos os livros do site da Feira do Livro"
   ]
  },
  {
   "cell_type": "code",
   "execution_count": 3,
   "metadata": {},
   "outputs": [],
   "source": [
    "headers = {\n",
    "    'accept': 'application/json, text/plain, */*',\n",
    "    'accept-language': 'pt-BR,pt;q=0.9,en-US;q=0.8,en;q=0.7',\n",
    "    'priority': 'u=1, i',\n",
    "    'referer': 'https://festadolivro.edusp.com.br/26-festa-do-livro-da-usp/busca-por-livros',\n",
    "    'sec-ch-ua': '\"Chromium\";v=\"130\", \"Google Chrome\";v=\"130\", \"Not?A_Brand\";v=\"99\"',\n",
    "}\n"
   ]
  },
  {
   "cell_type": "code",
   "execution_count": 4,
   "metadata": {},
   "outputs": [],
   "source": [
    "pagina = 1\n",
    "por_pagina = 100 # Funciona com 1000, mas recomendo usar 100 para evitar algum tipo de sobrecarga na API."
   ]
  },
  {
   "cell_type": "code",
   "execution_count": 5,
   "metadata": {},
   "outputs": [],
   "source": [
    "# Para baixar 'quase' todos os livros, vá iterando por todas as vogais. Talvez funcione também iterando pelas consoantes, mas não quis sobrecarregar a API\n",
    "termo_busca = 'a'"
   ]
  },
  {
   "cell_type": "code",
   "execution_count": 6,
   "metadata": {},
   "outputs": [],
   "source": [
    "params = {\n",
    "    'flag': '26-festa-do-livro-da-usp',\n",
    "    'page': pagina,\n",
    "    'column': 'name',\n",
    "    'order': 'asc',\n",
    "    'per_page': por_pagina,\n",
    "    'name': termo_busca,\n",
    "}\n"
   ]
  },
  {
   "cell_type": "code",
   "execution_count": 7,
   "metadata": {},
   "outputs": [],
   "source": [
    "# A primeira request é apenas para obter o número total de páginas que serão lidas\n",
    "resposta = requests.get('https://festadolivro.edusp.com.br/api/v1/event-books', params=params, headers=headers)"
   ]
  },
  {
   "cell_type": "code",
   "execution_count": null,
   "metadata": {},
   "outputs": [],
   "source": [
    "if resposta.status_code == 200:\n",
    "    dados = resposta.json()['data']\n",
    "    ultima_pagina = resposta.json()['meta']['last_page']\n",
    "    ultima_pagina\n",
    "    print('Sucesso, vamos iterar por ' + str(ultima_pagina) + ' páginas')"
   ]
  },
  {
   "cell_type": "markdown",
   "metadata": {},
   "source": [
    "## Buscar livros já cadastrados\n",
    "Para evitar duplicados, lemos o banco de dados e retiramos os livros já cadastrados antes."
   ]
  },
  {
   "cell_type": "code",
   "execution_count": 9,
   "metadata": {},
   "outputs": [],
   "source": [
    "livros_usp_tbl = Table('livros_usp', MetaData(), autoload_with=db)"
   ]
  },
  {
   "cell_type": "code",
   "execution_count": 10,
   "metadata": {},
   "outputs": [],
   "source": [
    "select_query = select(livros_usp_tbl).order_by(livros_usp_tbl.c.publisher, livros_usp_tbl.c.authors, livros_usp_tbl.c.name)"
   ]
  },
  {
   "cell_type": "code",
   "execution_count": 11,
   "metadata": {},
   "outputs": [],
   "source": [
    "with db.connect() as conn:\n",
    "    livros_usp = pd.read_sql(select_query, conn)"
   ]
  },
  {
   "cell_type": "code",
   "execution_count": null,
   "metadata": {},
   "outputs": [],
   "source": [
    "len(livros_usp) # Livros já cadastrados"
   ]
  },
  {
   "cell_type": "code",
   "execution_count": null,
   "metadata": {},
   "outputs": [],
   "source": [
    "# O loop abaixo faz a leitura de cada página de resultados, compara os resultados encontrados com os ISBN já gravados, e salva os novos caso exista algum.\n",
    "while 0 < ultima_pagina:\n",
    "    params['page'] = params['page'] + 1\n",
    "    resposta = requests.get('https://festadolivro.edusp.com.br/api/v1/event-books', params=params, headers=headers)\n",
    "    if resposta.status_code == 200:\n",
    "        resultados_df = pd.DataFrame.from_dict(resposta.json()['data'])\n",
    "        resultados_df['data_atualizacao'] = pd.to_datetime(date.today())\n",
    "        print('Livros encontrados: ' + str(len(resultados_df)))\n",
    "        if len(resultados_df) > 0:\n",
    "            with db.connect() as conn:\n",
    "                livros_usp = pd.read_sql(select_query, conn)\n",
    "            resultados_df = resultados_df.loc[~resultados_df['isbn'].isin(livros_usp['isbn']),].copy()\n",
    "            if len(resultados_df) > 0:\n",
    "                print('Livros novos para gravar: ' + str(len(resultados_df)))\n",
    "                with db.connect() as conn:\n",
    "                    resultados_df.to_sql('livros_usp', conn, if_exists='append', index=False)\n",
    "            else:\n",
    "                print('Sem livros novos para gravar')\n",
    "        else:\n",
    "            break\n",
    "    else:\n",
    "        print('Erro na página' + str(params['page']))\n",
    "    sleep(5) # Quanto maior o tempo de espera em segundos, melhor para o site da Feira\n",
    "    print(params['page'])"
   ]
  },
  {
   "cell_type": "code",
   "execution_count": null,
   "metadata": {},
   "outputs": [],
   "source": []
  }
 ],
 "metadata": {
  "kernelspec": {
   "display_name": ".venv",
   "language": "python",
   "name": "python3"
  },
  "language_info": {
   "codemirror_mode": {
    "name": "ipython",
    "version": 3
   },
   "file_extension": ".py",
   "mimetype": "text/x-python",
   "name": "python",
   "nbconvert_exporter": "python",
   "pygments_lexer": "ipython3",
   "version": "3.12.3"
  }
 },
 "nbformat": 4,
 "nbformat_minor": 2
}
